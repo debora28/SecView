{
  "nbformat": 4,
  "nbformat_minor": 0,
  "metadata": {
    "colab": {
      "name": "07-12 Crime_E2.ipynb",
      "provenance": [],
      "collapsed_sections": [],
      "include_colab_link": true
    },
    "kernelspec": {
      "display_name": "Python 3",
      "name": "python3"
    }
  },
  "cells": [
    {
      "cell_type": "markdown",
      "metadata": {
        "id": "view-in-github",
        "colab_type": "text"
      },
      "source": [
        "<a href=\"https://colab.research.google.com/github/debora28/SecView/blob/debora/07_12_Crime_E2.ipynb\" target=\"_parent\"><img src=\"https://colab.research.google.com/assets/colab-badge.svg\" alt=\"Open In Colab\"/></a>"
      ]
    },
    {
      "cell_type": "markdown",
      "metadata": {
        "id": "i_AMA8MW2TgE"
      },
      "source": [
        "#**1. IMPORTS**"
      ]
    },
    {
      "cell_type": "code",
      "metadata": {
        "id": "6ajaPsiOufgm"
      },
      "source": [
        "import numpy as np\n",
        "import pandas as pd\n",
        "import matplotlib.pyplot as plt\n",
        "import seaborn as sns\n",
        "import os\n",
        "from datetime import datetime\n",
        "from sklearn.metrics import accuracy_score\n",
        "from sklearn.model_selection import train_test_split\n",
        "from sklearn.tree import DecisionTreeClassifier"
      ],
      "execution_count": 1066,
      "outputs": []
    },
    {
      "cell_type": "code",
      "metadata": {
        "id": "QmE7KtmleOdV"
      },
      "source": [
        "# Diretamente do GitHub (dataset 2014):\r\n",
        "url = 'https://raw.githubusercontent.com/debora28/pi-2020.2/main/2014-1-10mil.csv'\r\n",
        "data = pd.read_csv(url)"
      ],
      "execution_count": 1067,
      "outputs": []
    },
    {
      "cell_type": "markdown",
      "metadata": {
        "id": "Bdi65vns4GYs"
      },
      "source": [
        "#**2.1 PREPARANDO DADOS**"
      ]
    },
    {
      "cell_type": "code",
      "metadata": {
        "colab": {
          "base_uri": "https://localhost:8080/"
        },
        "id": "TAGDs3A1M8bt",
        "outputId": "ab890af1-bbc3-4d26-d464-f514f75f7367"
      },
      "source": [
        "print(data.isnull().sum())\n",
        "print(data)"
      ],
      "execution_count": 1068,
      "outputs": [
        {
          "output_type": "stream",
          "text": [
            "Unnamed: 0                   0\n",
            "NUM_BO                       0\n",
            "ANO_BO                       0\n",
            "ID_DELEGACIA                 0\n",
            "NOME_DEPARTAMENTO            0\n",
            "NOME_SECCIONAL               0\n",
            "DELEGACIA                    0\n",
            "NOME_DEPARTAMENTO_CIRC       0\n",
            "NOME_SECCIONAL_CIRC          0\n",
            "NOME_DELEGACIA_CIRC          0\n",
            "ANO                          0\n",
            "MES                          0\n",
            "DATA_OCORRENCIA_BO          87\n",
            "HORA_OCORRENCIA_BO        1040\n",
            "FLAG_STATUS                  0\n",
            "RUBRICA                      0\n",
            "DESDOBRAMENTO             9351\n",
            "CONDUTA                   4835\n",
            "LATITUDE                  1593\n",
            "LONGITUDE                 1593\n",
            "CIDADE                       0\n",
            "LOGRADOURO                 429\n",
            "NUMERO_LOGRADOURO         2467\n",
            "FLAG_STATUS.1                0\n",
            "DESCR_TIPO_PESSOA            0\n",
            "CONT_PESSOA                  0\n",
            "SEXO_PESSOA                  0\n",
            "IDADE_PESSOA              1902\n",
            "COR                       2372\n",
            "DESCR_PROFISSAO           3002\n",
            "DESCR_GRAU_INSTRUCAO      2832\n",
            "dtype: int64\n",
            "      Unnamed: 0  NUM_BO  ...       DESCR_PROFISSAO  DESCR_GRAU_INSTRUCAO\n",
            "0            243       2  ...   AUXILIAR DE LIMPEZA                   NaN\n",
            "1            244       2  ...          DESEMPREGADO       1 Grau completo\n",
            "2            245       2  ...       INVESTIGADOR(A)     Superior completo\n",
            "3            246       2  ...          DESEMPREGADO       2 Grau completo\n",
            "4            270       3  ...        POLICIAL CIVIL       2 Grau completo\n",
            "...          ...     ...  ...                   ...                   ...\n",
            "9995        9992      26  ...  SERVENTE DE PEDREIRO       1 Grau completo\n",
            "9996        9993      26  ...        POLICIAL CIVIL     Superior completo\n",
            "9997        9994      57  ...                   NaN       1 Grau completo\n",
            "9998        9996      57  ...             MOTORISTA       2 Grau completo\n",
            "9999        9998      57  ...           CONTADOR(A)     Superior completo\n",
            "\n",
            "[10000 rows x 31 columns]\n"
          ],
          "name": "stdout"
        }
      ]
    },
    {
      "cell_type": "code",
      "metadata": {
        "colab": {
          "base_uri": "https://localhost:8080/"
        },
        "id": "RJzpGPTmaCbd",
        "outputId": "e0efb77f-20a8-4695-93a4-d220394878f0"
      },
      "source": [
        "data.shape"
      ],
      "execution_count": 1069,
      "outputs": [
        {
          "output_type": "execute_result",
          "data": {
            "text/plain": [
              "(10000, 31)"
            ]
          },
          "metadata": {
            "tags": []
          },
          "execution_count": 1069
        }
      ]
    },
    {
      "cell_type": "markdown",
      "metadata": {
        "id": "hEQpAtjLkqeR"
      },
      "source": [
        "Retirando colunas que não serão usadas:"
      ]
    },
    {
      "cell_type": "code",
      "metadata": {
        "colab": {
          "base_uri": "https://localhost:8080/",
          "height": 322
        },
        "id": "ZHbA6vbaODrq",
        "outputId": "fbf0c410-9caa-43ec-bc52-2cd3ce18618e"
      },
      "source": [
        "data = data.drop(columns=['ID_DELEGACIA','NOME_DEPARTAMENTO', 'NOME_SECCIONAL','DELEGACIA','NOME_DEPARTAMENTO_CIRC','NOME_SECCIONAL_CIRC','FLAG_STATUS','DESDOBRAMENTO','NUMERO_LOGRADOURO','FLAG_STATUS.1'])\n",
        "data.to_csv('data_semDesdob.csv', index= False)\n",
        "data.head()"
      ],
      "execution_count": 1070,
      "outputs": [
        {
          "output_type": "execute_result",
          "data": {
            "text/html": [
              "<div>\n",
              "<style scoped>\n",
              "    .dataframe tbody tr th:only-of-type {\n",
              "        vertical-align: middle;\n",
              "    }\n",
              "\n",
              "    .dataframe tbody tr th {\n",
              "        vertical-align: top;\n",
              "    }\n",
              "\n",
              "    .dataframe thead th {\n",
              "        text-align: right;\n",
              "    }\n",
              "</style>\n",
              "<table border=\"1\" class=\"dataframe\">\n",
              "  <thead>\n",
              "    <tr style=\"text-align: right;\">\n",
              "      <th></th>\n",
              "      <th>Unnamed: 0</th>\n",
              "      <th>NUM_BO</th>\n",
              "      <th>ANO_BO</th>\n",
              "      <th>NOME_DELEGACIA_CIRC</th>\n",
              "      <th>ANO</th>\n",
              "      <th>MES</th>\n",
              "      <th>DATA_OCORRENCIA_BO</th>\n",
              "      <th>HORA_OCORRENCIA_BO</th>\n",
              "      <th>RUBRICA</th>\n",
              "      <th>CONDUTA</th>\n",
              "      <th>LATITUDE</th>\n",
              "      <th>LONGITUDE</th>\n",
              "      <th>CIDADE</th>\n",
              "      <th>LOGRADOURO</th>\n",
              "      <th>DESCR_TIPO_PESSOA</th>\n",
              "      <th>CONT_PESSOA</th>\n",
              "      <th>SEXO_PESSOA</th>\n",
              "      <th>IDADE_PESSOA</th>\n",
              "      <th>COR</th>\n",
              "      <th>DESCR_PROFISSAO</th>\n",
              "      <th>DESCR_GRAU_INSTRUCAO</th>\n",
              "    </tr>\n",
              "  </thead>\n",
              "  <tbody>\n",
              "    <tr>\n",
              "      <th>0</th>\n",
              "      <td>243</td>\n",
              "      <td>2</td>\n",
              "      <td>2014</td>\n",
              "      <td>01 D.P. BARUERI</td>\n",
              "      <td>2014</td>\n",
              "      <td>2</td>\n",
              "      <td>26/02/2014</td>\n",
              "      <td>17:00</td>\n",
              "      <td>Drogas</td>\n",
              "      <td>NaN</td>\n",
              "      <td>NaN</td>\n",
              "      <td>NaN</td>\n",
              "      <td>BARUERI</td>\n",
              "      <td>R MARIA HELENA</td>\n",
              "      <td>Curador</td>\n",
              "      <td>7</td>\n",
              "      <td>F</td>\n",
              "      <td>51.0</td>\n",
              "      <td>Parda</td>\n",
              "      <td>AUXILIAR DE LIMPEZA</td>\n",
              "      <td>NaN</td>\n",
              "    </tr>\n",
              "    <tr>\n",
              "      <th>1</th>\n",
              "      <td>244</td>\n",
              "      <td>2</td>\n",
              "      <td>2014</td>\n",
              "      <td>01 D.P. BARUERI</td>\n",
              "      <td>2014</td>\n",
              "      <td>2</td>\n",
              "      <td>26/02/2014</td>\n",
              "      <td>17:00</td>\n",
              "      <td>Drogas</td>\n",
              "      <td>NaN</td>\n",
              "      <td>NaN</td>\n",
              "      <td>NaN</td>\n",
              "      <td>BARUERI</td>\n",
              "      <td>R MARIA HELENA</td>\n",
              "      <td>Indiciado</td>\n",
              "      <td>4</td>\n",
              "      <td>M</td>\n",
              "      <td>19.0</td>\n",
              "      <td>Parda</td>\n",
              "      <td>DESEMPREGADO</td>\n",
              "      <td>1 Grau completo</td>\n",
              "    </tr>\n",
              "    <tr>\n",
              "      <th>2</th>\n",
              "      <td>245</td>\n",
              "      <td>2</td>\n",
              "      <td>2014</td>\n",
              "      <td>01 D.P. BARUERI</td>\n",
              "      <td>2014</td>\n",
              "      <td>2</td>\n",
              "      <td>26/02/2014</td>\n",
              "      <td>17:00</td>\n",
              "      <td>Drogas</td>\n",
              "      <td>NaN</td>\n",
              "      <td>NaN</td>\n",
              "      <td>NaN</td>\n",
              "      <td>BARUERI</td>\n",
              "      <td>R MARIA HELENA</td>\n",
              "      <td>Testemunha</td>\n",
              "      <td>2</td>\n",
              "      <td>M</td>\n",
              "      <td>38.0</td>\n",
              "      <td>NaN</td>\n",
              "      <td>INVESTIGADOR(A)</td>\n",
              "      <td>Superior completo</td>\n",
              "    </tr>\n",
              "    <tr>\n",
              "      <th>3</th>\n",
              "      <td>246</td>\n",
              "      <td>2</td>\n",
              "      <td>2014</td>\n",
              "      <td>01 D.P. BARUERI</td>\n",
              "      <td>2014</td>\n",
              "      <td>2</td>\n",
              "      <td>26/02/2014</td>\n",
              "      <td>17:00</td>\n",
              "      <td>Drogas</td>\n",
              "      <td>NaN</td>\n",
              "      <td>NaN</td>\n",
              "      <td>NaN</td>\n",
              "      <td>BARUERI</td>\n",
              "      <td>R MARIA HELENA</td>\n",
              "      <td>Testemunha</td>\n",
              "      <td>6</td>\n",
              "      <td>M</td>\n",
              "      <td>23.0</td>\n",
              "      <td>Parda</td>\n",
              "      <td>DESEMPREGADO</td>\n",
              "      <td>2 Grau completo</td>\n",
              "    </tr>\n",
              "    <tr>\n",
              "      <th>4</th>\n",
              "      <td>270</td>\n",
              "      <td>3</td>\n",
              "      <td>2014</td>\n",
              "      <td>DEL.POL.ITAQUAQUECETUBA</td>\n",
              "      <td>2014</td>\n",
              "      <td>1</td>\n",
              "      <td>14/01/2014</td>\n",
              "      <td>17:00</td>\n",
              "      <td>Drogas</td>\n",
              "      <td>NaN</td>\n",
              "      <td>-2.348.960.369</td>\n",
              "      <td>-4.637.155.072</td>\n",
              "      <td>ITAQUAQUECETUBA</td>\n",
              "      <td>R UBATUBA</td>\n",
              "      <td>Testemunha</td>\n",
              "      <td>1</td>\n",
              "      <td>M</td>\n",
              "      <td>40.0</td>\n",
              "      <td>NaN</td>\n",
              "      <td>POLICIAL CIVIL</td>\n",
              "      <td>2 Grau completo</td>\n",
              "    </tr>\n",
              "  </tbody>\n",
              "</table>\n",
              "</div>"
            ],
            "text/plain": [
              "   Unnamed: 0  NUM_BO  ANO_BO  ...    COR      DESCR_PROFISSAO  DESCR_GRAU_INSTRUCAO\n",
              "0         243       2    2014  ...  Parda  AUXILIAR DE LIMPEZA                   NaN\n",
              "1         244       2    2014  ...  Parda         DESEMPREGADO       1 Grau completo\n",
              "2         245       2    2014  ...    NaN      INVESTIGADOR(A)     Superior completo\n",
              "3         246       2    2014  ...  Parda         DESEMPREGADO       2 Grau completo\n",
              "4         270       3    2014  ...    NaN       POLICIAL CIVIL       2 Grau completo\n",
              "\n",
              "[5 rows x 21 columns]"
            ]
          },
          "metadata": {
            "tags": []
          },
          "execution_count": 1070
        }
      ]
    },
    {
      "cell_type": "code",
      "metadata": {
        "colab": {
          "base_uri": "https://localhost:8080/"
        },
        "id": "QPsg0qTNk6rs",
        "outputId": "53eb3e3e-d3d2-4f14-dd9f-469b171cd920"
      },
      "source": [
        "data.isnull().sum().sum()"
      ],
      "execution_count": 1108,
      "outputs": [
        {
          "output_type": "execute_result",
          "data": {
            "text/plain": [
              "0"
            ]
          },
          "metadata": {
            "tags": []
          },
          "execution_count": 1108
        }
      ]
    },
    {
      "cell_type": "code",
      "metadata": {
        "colab": {
          "base_uri": "https://localhost:8080/"
        },
        "id": "oobLaXSKlV6-",
        "outputId": "e53a5505-45ab-4af8-a9b9-f5631318adbf"
      },
      "source": [
        "data.isnull().any()"
      ],
      "execution_count": 1109,
      "outputs": [
        {
          "output_type": "execute_result",
          "data": {
            "text/plain": [
              "Unnamed: 0                          False\n",
              "NUM_BO                              False\n",
              "ANO_BO                              False\n",
              "NOME_DELEGACIA_CIRC                 False\n",
              "ANO                                 False\n",
              "MES                                 False\n",
              "DATA_OCORRENCIA_BO                  False\n",
              "HORA_OCORRENCIA_BO                  False\n",
              "RUBRICA                             False\n",
              "CONDUTA                             False\n",
              "LATITUDE                            False\n",
              "LONGITUDE                           False\n",
              "CIDADE                              False\n",
              "LOGRADOURO                          False\n",
              "DESCR_TIPO_PESSOA                   False\n",
              "CONT_PESSOA                         False\n",
              "SEXO_PESSOA                         False\n",
              "IDADE_PESSOA                        False\n",
              "COR                                 False\n",
              "DESCR_PROFISSAO                     False\n",
              "DESCR_GRAU_INSTRUCAO                False\n",
              "Drogas                              False\n",
              "Estupro                             False\n",
              "Estupro de vulneravel               False\n",
              "Furto                               False\n",
              "Furto qualificado                   False\n",
              "Homicidio                           False\n",
              "Homicidio culposo                   False\n",
              "Homicidio culposo por veiculo       False\n",
              "Homicidio qualificado               False\n",
              "Lesao corporal                      False\n",
              "Lesao corporal de natureza GRAVE    False\n",
              "Lesao corporal seguida de morte     False\n",
              "Lesao culposa por veiculo           False\n",
              "Roubo                               False\n",
              "ROUBO_FURTO                         False\n",
              "SEXO_PESSOA_CODED                   False\n",
              "dtype: bool"
            ]
          },
          "metadata": {
            "tags": []
          },
          "execution_count": 1109
        }
      ]
    },
    {
      "cell_type": "markdown",
      "metadata": {
        "id": "vY0mR-uFkw7y"
      },
      "source": [
        "Preenchendo valores NaN ou NA com os valores mais frequentes:"
      ]
    },
    {
      "cell_type": "code",
      "metadata": {
        "colab": {
          "base_uri": "https://localhost:8080/"
        },
        "id": "m7BqlhMMKOmd",
        "outputId": "73c166cc-3d12-40d7-a4db-ea8cb0e7a82f"
      },
      "source": [
        "data['CONDUTA'].value_counts()"
      ],
      "execution_count": 1071,
      "outputs": [
        {
          "output_type": "execute_result",
          "data": {
            "text/plain": [
              "VEICULO                         1386\n",
              "TRANSEUNTE                      1369\n",
              "OUTROS                           681\n",
              "RESIDENCIA                       422\n",
              "INTERIOR DE VEICULO              354\n",
              "ESTABELECIMENTO COMERCIAL        326\n",
              "CARGA                            273\n",
              "INTERIOR ESTABELECIMENTO         112\n",
              "ESTABELECIMENTO BANCARIO          75\n",
              "ESTABELECIMENTO-OUTROS            62\n",
              "INTERIOR TRANSPORTE COLETIVO      46\n",
              "ESTABELECIMENTO ENSINO            37\n",
              "COLETIVO                          13\n",
              "CONDOMINIO RESIDENCIAL             7\n",
              "CONDOMINIO COMERCIAL               2\n",
              "Name: CONDUTA, dtype: int64"
            ]
          },
          "metadata": {
            "tags": []
          },
          "execution_count": 1071
        }
      ]
    },
    {
      "cell_type": "code",
      "metadata": {
        "id": "I_h81za9LJ3i"
      },
      "source": [
        "data['CONDUTA'].fillna('VEICULO', inplace=True)"
      ],
      "execution_count": 1072,
      "outputs": []
    },
    {
      "cell_type": "code",
      "metadata": {
        "id": "Gf6_QKdxL-_J",
        "colab": {
          "base_uri": "https://localhost:8080/"
        },
        "outputId": "cca6cf04-916c-4323-c738-e9a7d967d99e"
      },
      "source": [
        "data['CONDUTA'].value_counts()"
      ],
      "execution_count": 1073,
      "outputs": [
        {
          "output_type": "execute_result",
          "data": {
            "text/plain": [
              "VEICULO                         6221\n",
              "TRANSEUNTE                      1369\n",
              "OUTROS                           681\n",
              "RESIDENCIA                       422\n",
              "INTERIOR DE VEICULO              354\n",
              "ESTABELECIMENTO COMERCIAL        326\n",
              "CARGA                            273\n",
              "INTERIOR ESTABELECIMENTO         112\n",
              "ESTABELECIMENTO BANCARIO          75\n",
              "ESTABELECIMENTO-OUTROS            62\n",
              "INTERIOR TRANSPORTE COLETIVO      46\n",
              "ESTABELECIMENTO ENSINO            37\n",
              "COLETIVO                          13\n",
              "CONDOMINIO RESIDENCIAL             7\n",
              "CONDOMINIO COMERCIAL               2\n",
              "Name: CONDUTA, dtype: int64"
            ]
          },
          "metadata": {
            "tags": []
          },
          "execution_count": 1073
        }
      ]
    },
    {
      "cell_type": "code",
      "metadata": {
        "colab": {
          "base_uri": "https://localhost:8080/"
        },
        "id": "stSP0L2kNEVR",
        "outputId": "e038a1ac-df6d-489e-8df7-28bf0403550a"
      },
      "source": [
        "data['LATITUDE'].value_counts()"
      ],
      "execution_count": 1074,
      "outputs": [
        {
          "output_type": "execute_result",
          "data": {
            "text/plain": [
              "-2.371.286.115    48\n",
              "-2.364.027.263    23\n",
              "-2.352.519.435    23\n",
              "-2.347.103.556    22\n",
              "-2.355.850.851    22\n",
              "                  ..\n",
              "-2.348.937.986     1\n",
              "-2.353.336.199     1\n",
              "-2.337.814.456     1\n",
              "-2.353.860.314     1\n",
              "-2.350.421.976     1\n",
              "Name: LATITUDE, Length: 3439, dtype: int64"
            ]
          },
          "metadata": {
            "tags": []
          },
          "execution_count": 1074
        }
      ]
    },
    {
      "cell_type": "code",
      "metadata": {
        "id": "gQ9Jc7iiNKIi"
      },
      "source": [
        "data['LATITUDE'].fillna('-23.71286115', inplace=True)"
      ],
      "execution_count": 1075,
      "outputs": []
    },
    {
      "cell_type": "code",
      "metadata": {
        "colab": {
          "base_uri": "https://localhost:8080/"
        },
        "id": "RWPBFDj4NPPd",
        "outputId": "da1db40a-e5ca-4643-b440-55986138f431"
      },
      "source": [
        "data['LONGITUDE'].value_counts()"
      ],
      "execution_count": 1076,
      "outputs": [
        {
          "output_type": "execute_result",
          "data": {
            "text/plain": [
              "-4.678.186.771    48\n",
              "-4.681.568.811    23\n",
              "-4.639.605.905    23\n",
              "-4.672.128.418    22\n",
              "-4.661.519.738    22\n",
              "                  ..\n",
              "-4.664.018.923     1\n",
              "-459.909.844       1\n",
              "-4.661.527.855     1\n",
              "-4.654.911.801     1\n",
              "-4.679.653.543     1\n",
              "Name: LONGITUDE, Length: 3439, dtype: int64"
            ]
          },
          "metadata": {
            "tags": []
          },
          "execution_count": 1076
        }
      ]
    },
    {
      "cell_type": "code",
      "metadata": {
        "id": "2XHdogdRNPPj"
      },
      "source": [
        "data['LONGITUDE'].fillna('-46.78186771', inplace=True)"
      ],
      "execution_count": 1077,
      "outputs": []
    },
    {
      "cell_type": "code",
      "metadata": {
        "colab": {
          "base_uri": "https://localhost:8080/"
        },
        "id": "baHIVIEadWa1",
        "outputId": "731b957c-a157-409e-9da9-9fbb1e409353"
      },
      "source": [
        "data['DATA_OCORRENCIA_BO'].value_counts()"
      ],
      "execution_count": 1078,
      "outputs": [
        {
          "output_type": "execute_result",
          "data": {
            "text/plain": [
              "01/01/2014    2556\n",
              "02/01/2014    1443\n",
              "03/01/2014     911\n",
              "06/01/2014     550\n",
              "04/01/2014     415\n",
              "              ... \n",
              "25/06/2014       1\n",
              "01/06/2014       1\n",
              "23/05/2014       1\n",
              "21/04/2014       1\n",
              "03/05/2014       1\n",
              "Name: DATA_OCORRENCIA_BO, Length: 155, dtype: int64"
            ]
          },
          "metadata": {
            "tags": []
          },
          "execution_count": 1078
        }
      ]
    },
    {
      "cell_type": "code",
      "metadata": {
        "id": "FQ5rJ4wrcugV"
      },
      "source": [
        "data['DATA_OCORRENCIA_BO'].fillna('01/01/2014', inplace=True)"
      ],
      "execution_count": 1079,
      "outputs": []
    },
    {
      "cell_type": "code",
      "metadata": {
        "colab": {
          "base_uri": "https://localhost:8080/"
        },
        "id": "KqgfT9yMd01y",
        "outputId": "1a09e658-a0d5-4834-d58a-590c2be7074c"
      },
      "source": [
        "data['HORA_OCORRENCIA_BO'].value_counts()"
      ],
      "execution_count": 1080,
      "outputs": [
        {
          "output_type": "execute_result",
          "data": {
            "text/plain": [
              "12:00    239\n",
              "15:00    218\n",
              "16:00    207\n",
              "14:00    204\n",
              "01:00    201\n",
              "        ... \n",
              "12:11      1\n",
              "07:44      1\n",
              "11:46      1\n",
              "02:39      1\n",
              "19:37      1\n",
              "Name: HORA_OCORRENCIA_BO, Length: 484, dtype: int64"
            ]
          },
          "metadata": {
            "tags": []
          },
          "execution_count": 1080
        }
      ]
    },
    {
      "cell_type": "code",
      "metadata": {
        "id": "8Jt305cedmay"
      },
      "source": [
        "data['HORA_OCORRENCIA_BO'].fillna('12:00', inplace=True)"
      ],
      "execution_count": 1081,
      "outputs": []
    },
    {
      "cell_type": "code",
      "metadata": {
        "id": "o_5t4vElcFUN"
      },
      "source": [
        "# data['somente Horas'] = pd.to_datetime(data['HORA_OCORRENCIA_BO'], format= '%H:%M.%f') \\\r\n",
        "                        # .apply(lambda x: x.strftime('%H:%M'))"
      ],
      "execution_count": 1082,
      "outputs": []
    },
    {
      "cell_type": "code",
      "metadata": {
        "colab": {
          "base_uri": "https://localhost:8080/"
        },
        "id": "33zZOrUsnfOM",
        "outputId": "cd1761be-e98e-4b78-94ca-e061154b42db"
      },
      "source": [
        "data['LOGRADOURO'].value_counts()"
      ],
      "execution_count": 1083,
      "outputs": [
        {
          "output_type": "execute_result",
          "data": {
            "text/plain": [
              "AV SAPOPEMBA                     65\n",
              "EST DO M BOI MIRIM               54\n",
              "AV DO ESTADO                     39\n",
              "R APA                            35\n",
              "AV CELSO GARCIA                  34\n",
              "                                 ..\n",
              "TRAVESSA ARMANDO DA FONSECA       1\n",
              "RUA ORENSE                        1\n",
              "RUA ADRIANO PEREIRA               1\n",
              "R DONA MARIA FERRAZ DO AMARAL     1\n",
              "R ESTAMPA ESPORTIVA               1\n",
              "Name: LOGRADOURO, Length: 3186, dtype: int64"
            ]
          },
          "metadata": {
            "tags": []
          },
          "execution_count": 1083
        }
      ]
    },
    {
      "cell_type": "code",
      "metadata": {
        "id": "-iqgzBOMeMfD"
      },
      "source": [
        "data['LOGRADOURO'].fillna('AV SAPOPEMBA', inplace=True)"
      ],
      "execution_count": 1084,
      "outputs": []
    },
    {
      "cell_type": "code",
      "metadata": {
        "colab": {
          "base_uri": "https://localhost:8080/"
        },
        "id": "gpmNm6OJehSs",
        "outputId": "f6f712bd-af5c-4fb0-e897-4b31904fe94d"
      },
      "source": [
        "data['COR'].value_counts()"
      ],
      "execution_count": 1085,
      "outputs": [
        {
          "output_type": "execute_result",
          "data": {
            "text/plain": [
              "Branca     4166\n",
              "Parda      2517\n",
              "Preta       575\n",
              "Outros      334\n",
              "Amarela      36\n",
              "Name: COR, dtype: int64"
            ]
          },
          "metadata": {
            "tags": []
          },
          "execution_count": 1085
        }
      ]
    },
    {
      "cell_type": "code",
      "metadata": {
        "id": "jcRyXDBIecYq"
      },
      "source": [
        "data['COR'].fillna('Branca', inplace=True)"
      ],
      "execution_count": 1086,
      "outputs": []
    },
    {
      "cell_type": "code",
      "metadata": {
        "colab": {
          "base_uri": "https://localhost:8080/"
        },
        "id": "OQU9Cn8RehGG",
        "outputId": "e2a7620a-a98e-4b62-ce82-63b07a702997"
      },
      "source": [
        "data['IDADE_PESSOA'].value_counts()"
      ],
      "execution_count": 1087,
      "outputs": [
        {
          "output_type": "execute_result",
          "data": {
            "text/plain": [
              "30.0     269\n",
              "26.0     260\n",
              "33.0     256\n",
              "28.0     245\n",
              "38.0     241\n",
              "        ... \n",
              "103.0      1\n",
              "87.0       1\n",
              "91.0       1\n",
              "89.0       1\n",
              "88.0       1\n",
              "Name: IDADE_PESSOA, Length: 92, dtype: int64"
            ]
          },
          "metadata": {
            "tags": []
          },
          "execution_count": 1087
        }
      ]
    },
    {
      "cell_type": "code",
      "metadata": {
        "id": "VLr_9BNyebyY"
      },
      "source": [
        "data['IDADE_PESSOA'].fillna('30', inplace=True)"
      ],
      "execution_count": 1088,
      "outputs": []
    },
    {
      "cell_type": "code",
      "metadata": {
        "colab": {
          "base_uri": "https://localhost:8080/"
        },
        "id": "oHp6qe45ehsk",
        "outputId": "6c4d841f-51b1-42b4-e430-a0a49791bb2e"
      },
      "source": [
        "data['DESCR_PROFISSAO'].value_counts()"
      ],
      "execution_count": 1089,
      "outputs": [
        {
          "output_type": "execute_result",
          "data": {
            "text/plain": [
              "POLICIAL MILITAR    827\n",
              "POLICIAL CIVIL      721\n",
              "ESTUDANTE           308\n",
              "MOTORISTA           300\n",
              "DESEMPREGADO        281\n",
              "                   ... \n",
              "ASSESSORISTA          1\n",
              "AZULEJISTA            1\n",
              "BORDADEIRA            1\n",
              "JUIZ DE DIREITO       1\n",
              "ENCADERNADOR(A)       1\n",
              "Name: DESCR_PROFISSAO, Length: 417, dtype: int64"
            ]
          },
          "metadata": {
            "tags": []
          },
          "execution_count": 1089
        }
      ]
    },
    {
      "cell_type": "code",
      "metadata": {
        "id": "ZTvBNDr3efUL"
      },
      "source": [
        "data['DESCR_PROFISSAO'].fillna('POLICIAL MILITAR', inplace=True)"
      ],
      "execution_count": 1090,
      "outputs": []
    },
    {
      "cell_type": "code",
      "metadata": {
        "colab": {
          "base_uri": "https://localhost:8080/"
        },
        "id": "OAc5D8Oms-B9",
        "outputId": "9f2eaf75-f919-4bc0-f946-a1891c080182"
      },
      "source": [
        "data['DESCR_GRAU_INSTRUCAO'].value_counts()"
      ],
      "execution_count": 1091,
      "outputs": [
        {
          "output_type": "execute_result",
          "data": {
            "text/plain": [
              "2 Grau completo        2780\n",
              "1 Grau completo        1882\n",
              "Superior completo      1310\n",
              "1 Grau incompleto       574\n",
              "Superior incompleto     321\n",
              "2 Grau incompleto       227\n",
              "Analfabeto               74\n",
              "Name: DESCR_GRAU_INSTRUCAO, dtype: int64"
            ]
          },
          "metadata": {
            "tags": []
          },
          "execution_count": 1091
        }
      ]
    },
    {
      "cell_type": "code",
      "metadata": {
        "id": "WwHr1y1Gs6DE"
      },
      "source": [
        "data['DESCR_GRAU_INSTRUCAO'].fillna('2 Grau completo', inplace=True)"
      ],
      "execution_count": 1092,
      "outputs": []
    },
    {
      "cell_type": "code",
      "metadata": {
        "colab": {
          "base_uri": "https://localhost:8080/"
        },
        "id": "YAZCNWRCSARl",
        "outputId": "d1cb3ca9-73dd-4bdd-daec-967869f1f09a"
      },
      "source": [
        "print(data.isnull().any())\n",
        "print()"
      ],
      "execution_count": 1093,
      "outputs": [
        {
          "output_type": "stream",
          "text": [
            "Unnamed: 0              False\n",
            "NUM_BO                  False\n",
            "ANO_BO                  False\n",
            "NOME_DELEGACIA_CIRC     False\n",
            "ANO                     False\n",
            "MES                     False\n",
            "DATA_OCORRENCIA_BO      False\n",
            "HORA_OCORRENCIA_BO      False\n",
            "RUBRICA                 False\n",
            "CONDUTA                 False\n",
            "LATITUDE                False\n",
            "LONGITUDE               False\n",
            "CIDADE                  False\n",
            "LOGRADOURO              False\n",
            "DESCR_TIPO_PESSOA       False\n",
            "CONT_PESSOA             False\n",
            "SEXO_PESSOA             False\n",
            "IDADE_PESSOA            False\n",
            "COR                     False\n",
            "DESCR_PROFISSAO         False\n",
            "DESCR_GRAU_INSTRUCAO    False\n",
            "dtype: bool\n",
            "\n"
          ],
          "name": "stdout"
        }
      ]
    },
    {
      "cell_type": "code",
      "metadata": {
        "colab": {
          "base_uri": "https://localhost:8080/",
          "height": 288
        },
        "id": "XiJ6s1sC-ZmS",
        "outputId": "d5c09593-075f-4828-9f22-c7699e64eadd"
      },
      "source": [
        "data.describe()"
      ],
      "execution_count": 1094,
      "outputs": [
        {
          "output_type": "execute_result",
          "data": {
            "text/html": [
              "<div>\n",
              "<style scoped>\n",
              "    .dataframe tbody tr th:only-of-type {\n",
              "        vertical-align: middle;\n",
              "    }\n",
              "\n",
              "    .dataframe tbody tr th {\n",
              "        vertical-align: top;\n",
              "    }\n",
              "\n",
              "    .dataframe thead th {\n",
              "        text-align: right;\n",
              "    }\n",
              "</style>\n",
              "<table border=\"1\" class=\"dataframe\">\n",
              "  <thead>\n",
              "    <tr style=\"text-align: right;\">\n",
              "      <th></th>\n",
              "      <th>Unnamed: 0</th>\n",
              "      <th>NUM_BO</th>\n",
              "      <th>ANO_BO</th>\n",
              "      <th>ANO</th>\n",
              "      <th>MES</th>\n",
              "      <th>CONT_PESSOA</th>\n",
              "    </tr>\n",
              "  </thead>\n",
              "  <tbody>\n",
              "    <tr>\n",
              "      <th>count</th>\n",
              "      <td>10000.00000</td>\n",
              "      <td>10000.000000</td>\n",
              "      <td>10000.000000</td>\n",
              "      <td>10000.0</td>\n",
              "      <td>10000.000000</td>\n",
              "      <td>10000.000000</td>\n",
              "    </tr>\n",
              "    <tr>\n",
              "      <th>mean</th>\n",
              "      <td>4999.50000</td>\n",
              "      <td>24.377100</td>\n",
              "      <td>2014.011400</td>\n",
              "      <td>2014.0</td>\n",
              "      <td>1.362000</td>\n",
              "      <td>2.625500</td>\n",
              "    </tr>\n",
              "    <tr>\n",
              "      <th>std</th>\n",
              "      <td>2886.89568</td>\n",
              "      <td>16.054192</td>\n",
              "      <td>0.112567</td>\n",
              "      <td>0.0</td>\n",
              "      <td>0.898909</td>\n",
              "      <td>1.934276</td>\n",
              "    </tr>\n",
              "    <tr>\n",
              "      <th>min</th>\n",
              "      <td>0.00000</td>\n",
              "      <td>1.000000</td>\n",
              "      <td>2014.000000</td>\n",
              "      <td>2014.0</td>\n",
              "      <td>1.000000</td>\n",
              "      <td>1.000000</td>\n",
              "    </tr>\n",
              "    <tr>\n",
              "      <th>25%</th>\n",
              "      <td>2499.75000</td>\n",
              "      <td>11.000000</td>\n",
              "      <td>2014.000000</td>\n",
              "      <td>2014.0</td>\n",
              "      <td>1.000000</td>\n",
              "      <td>1.000000</td>\n",
              "    </tr>\n",
              "    <tr>\n",
              "      <th>50%</th>\n",
              "      <td>4999.50000</td>\n",
              "      <td>21.000000</td>\n",
              "      <td>2014.000000</td>\n",
              "      <td>2014.0</td>\n",
              "      <td>1.000000</td>\n",
              "      <td>2.000000</td>\n",
              "    </tr>\n",
              "    <tr>\n",
              "      <th>75%</th>\n",
              "      <td>7499.25000</td>\n",
              "      <td>37.000000</td>\n",
              "      <td>2014.000000</td>\n",
              "      <td>2014.0</td>\n",
              "      <td>1.000000</td>\n",
              "      <td>3.000000</td>\n",
              "    </tr>\n",
              "    <tr>\n",
              "      <th>max</th>\n",
              "      <td>9999.00000</td>\n",
              "      <td>63.000000</td>\n",
              "      <td>2017.000000</td>\n",
              "      <td>2014.0</td>\n",
              "      <td>6.000000</td>\n",
              "      <td>17.000000</td>\n",
              "    </tr>\n",
              "  </tbody>\n",
              "</table>\n",
              "</div>"
            ],
            "text/plain": [
              "        Unnamed: 0        NUM_BO  ...           MES   CONT_PESSOA\n",
              "count  10000.00000  10000.000000  ...  10000.000000  10000.000000\n",
              "mean    4999.50000     24.377100  ...      1.362000      2.625500\n",
              "std     2886.89568     16.054192  ...      0.898909      1.934276\n",
              "min        0.00000      1.000000  ...      1.000000      1.000000\n",
              "25%     2499.75000     11.000000  ...      1.000000      1.000000\n",
              "50%     4999.50000     21.000000  ...      1.000000      2.000000\n",
              "75%     7499.25000     37.000000  ...      1.000000      3.000000\n",
              "max     9999.00000     63.000000  ...      6.000000     17.000000\n",
              "\n",
              "[8 rows x 6 columns]"
            ]
          },
          "metadata": {
            "tags": []
          },
          "execution_count": 1094
        }
      ]
    },
    {
      "cell_type": "markdown",
      "metadata": {
        "id": "s-NIYIm608F_"
      },
      "source": [
        "#**2.2 CONVERTENDO DADOS CATEGÓRICOS EM NUMÉRICOS**\r\n",
        "Codificação one-hot \r\n",
        "\r\n"
      ]
    },
    {
      "cell_type": "code",
      "metadata": {
        "id": "QT6z8m1EEgA6",
        "colab": {
          "base_uri": "https://localhost:8080/",
          "height": 232
        },
        "outputId": "5414b034-4f60-4ecf-d5bd-7abcd221b098"
      },
      "source": [
        "novas_colunas = pd.get_dummies(data['RUBRICA']) \n",
        "data = pd.concat([data,novas_colunas], axis=1) \n",
        "data.head(2)"
      ],
      "execution_count": 1095,
      "outputs": [
        {
          "output_type": "execute_result",
          "data": {
            "text/html": [
              "<div>\n",
              "<style scoped>\n",
              "    .dataframe tbody tr th:only-of-type {\n",
              "        vertical-align: middle;\n",
              "    }\n",
              "\n",
              "    .dataframe tbody tr th {\n",
              "        vertical-align: top;\n",
              "    }\n",
              "\n",
              "    .dataframe thead th {\n",
              "        text-align: right;\n",
              "    }\n",
              "</style>\n",
              "<table border=\"1\" class=\"dataframe\">\n",
              "  <thead>\n",
              "    <tr style=\"text-align: right;\">\n",
              "      <th></th>\n",
              "      <th>Unnamed: 0</th>\n",
              "      <th>NUM_BO</th>\n",
              "      <th>ANO_BO</th>\n",
              "      <th>NOME_DELEGACIA_CIRC</th>\n",
              "      <th>ANO</th>\n",
              "      <th>MES</th>\n",
              "      <th>DATA_OCORRENCIA_BO</th>\n",
              "      <th>HORA_OCORRENCIA_BO</th>\n",
              "      <th>RUBRICA</th>\n",
              "      <th>CONDUTA</th>\n",
              "      <th>LATITUDE</th>\n",
              "      <th>LONGITUDE</th>\n",
              "      <th>CIDADE</th>\n",
              "      <th>LOGRADOURO</th>\n",
              "      <th>DESCR_TIPO_PESSOA</th>\n",
              "      <th>CONT_PESSOA</th>\n",
              "      <th>SEXO_PESSOA</th>\n",
              "      <th>IDADE_PESSOA</th>\n",
              "      <th>COR</th>\n",
              "      <th>DESCR_PROFISSAO</th>\n",
              "      <th>DESCR_GRAU_INSTRUCAO</th>\n",
              "      <th>Drogas</th>\n",
              "      <th>Estupro</th>\n",
              "      <th>Estupro de vulneravel</th>\n",
              "      <th>Furto</th>\n",
              "      <th>Furto qualificado</th>\n",
              "      <th>Homicidio</th>\n",
              "      <th>Homicidio culposo</th>\n",
              "      <th>Homicidio culposo por veiculo</th>\n",
              "      <th>Homicidio qualificado</th>\n",
              "      <th>Lesao corporal</th>\n",
              "      <th>Lesao corporal de natureza GRAVE</th>\n",
              "      <th>Lesao corporal seguida de morte</th>\n",
              "      <th>Lesao culposa por veiculo</th>\n",
              "      <th>Roubo</th>\n",
              "    </tr>\n",
              "  </thead>\n",
              "  <tbody>\n",
              "    <tr>\n",
              "      <th>0</th>\n",
              "      <td>243</td>\n",
              "      <td>2</td>\n",
              "      <td>2014</td>\n",
              "      <td>01 D.P. BARUERI</td>\n",
              "      <td>2014</td>\n",
              "      <td>2</td>\n",
              "      <td>26/02/2014</td>\n",
              "      <td>17:00</td>\n",
              "      <td>Drogas</td>\n",
              "      <td>VEICULO</td>\n",
              "      <td>-23.71286115</td>\n",
              "      <td>-46.78186771</td>\n",
              "      <td>BARUERI</td>\n",
              "      <td>R MARIA HELENA</td>\n",
              "      <td>Curador</td>\n",
              "      <td>7</td>\n",
              "      <td>F</td>\n",
              "      <td>51</td>\n",
              "      <td>Parda</td>\n",
              "      <td>AUXILIAR DE LIMPEZA</td>\n",
              "      <td>2 Grau completo</td>\n",
              "      <td>1</td>\n",
              "      <td>0</td>\n",
              "      <td>0</td>\n",
              "      <td>0</td>\n",
              "      <td>0</td>\n",
              "      <td>0</td>\n",
              "      <td>0</td>\n",
              "      <td>0</td>\n",
              "      <td>0</td>\n",
              "      <td>0</td>\n",
              "      <td>0</td>\n",
              "      <td>0</td>\n",
              "      <td>0</td>\n",
              "      <td>0</td>\n",
              "    </tr>\n",
              "    <tr>\n",
              "      <th>1</th>\n",
              "      <td>244</td>\n",
              "      <td>2</td>\n",
              "      <td>2014</td>\n",
              "      <td>01 D.P. BARUERI</td>\n",
              "      <td>2014</td>\n",
              "      <td>2</td>\n",
              "      <td>26/02/2014</td>\n",
              "      <td>17:00</td>\n",
              "      <td>Drogas</td>\n",
              "      <td>VEICULO</td>\n",
              "      <td>-23.71286115</td>\n",
              "      <td>-46.78186771</td>\n",
              "      <td>BARUERI</td>\n",
              "      <td>R MARIA HELENA</td>\n",
              "      <td>Indiciado</td>\n",
              "      <td>4</td>\n",
              "      <td>M</td>\n",
              "      <td>19</td>\n",
              "      <td>Parda</td>\n",
              "      <td>DESEMPREGADO</td>\n",
              "      <td>1 Grau completo</td>\n",
              "      <td>1</td>\n",
              "      <td>0</td>\n",
              "      <td>0</td>\n",
              "      <td>0</td>\n",
              "      <td>0</td>\n",
              "      <td>0</td>\n",
              "      <td>0</td>\n",
              "      <td>0</td>\n",
              "      <td>0</td>\n",
              "      <td>0</td>\n",
              "      <td>0</td>\n",
              "      <td>0</td>\n",
              "      <td>0</td>\n",
              "      <td>0</td>\n",
              "    </tr>\n",
              "  </tbody>\n",
              "</table>\n",
              "</div>"
            ],
            "text/plain": [
              "   Unnamed: 0  NUM_BO  ...  Lesao culposa por veiculo Roubo\n",
              "0         243       2  ...                          0     0\n",
              "1         244       2  ...                          0     0\n",
              "\n",
              "[2 rows x 35 columns]"
            ]
          },
          "metadata": {
            "tags": []
          },
          "execution_count": 1095
        }
      ]
    },
    {
      "cell_type": "code",
      "metadata": {
        "colab": {
          "base_uri": "https://localhost:8080/"
        },
        "id": "hb0sZAOCzMjm",
        "outputId": "23f177aa-feb0-4c89-c6a4-2d5970c8dc8b"
      },
      "source": [
        "data['RUBRICA'].value_counts()"
      ],
      "execution_count": 1096,
      "outputs": [
        {
          "output_type": "execute_result",
          "data": {
            "text/plain": [
              "Roubo                               3630\n",
              "Lesao corporal                      1875\n",
              "Drogas                              1694\n",
              "Furto                               1012\n",
              "Furto qualificado                    633\n",
              "Lesao culposa por veiculo            595\n",
              "Homicidio                            279\n",
              "Estupro de vulneravel                103\n",
              "Homicidio qualificado                 96\n",
              "Estupro                               50\n",
              "Homicidio culposo por veiculo         22\n",
              "Lesao corporal seguida de morte        4\n",
              "Lesao corporal de natureza GRAVE       4\n",
              "Homicidio culposo                      3\n",
              "Name: RUBRICA, dtype: int64"
            ]
          },
          "metadata": {
            "tags": []
          },
          "execution_count": 1096
        }
      ]
    },
    {
      "cell_type": "code",
      "metadata": {
        "colab": {
          "base_uri": "https://localhost:8080/",
          "height": 232
        },
        "id": "AHZhnLuAceZU",
        "outputId": "b8bf788d-d3d3-4254-d251-2c4424f3f55a"
      },
      "source": [
        "data['ROUBO_FURTO'] = data['Roubo'] + data['Furto'] + data['Furto qualificado']\r\n",
        "data.head(2)"
      ],
      "execution_count": 1097,
      "outputs": [
        {
          "output_type": "execute_result",
          "data": {
            "text/html": [
              "<div>\n",
              "<style scoped>\n",
              "    .dataframe tbody tr th:only-of-type {\n",
              "        vertical-align: middle;\n",
              "    }\n",
              "\n",
              "    .dataframe tbody tr th {\n",
              "        vertical-align: top;\n",
              "    }\n",
              "\n",
              "    .dataframe thead th {\n",
              "        text-align: right;\n",
              "    }\n",
              "</style>\n",
              "<table border=\"1\" class=\"dataframe\">\n",
              "  <thead>\n",
              "    <tr style=\"text-align: right;\">\n",
              "      <th></th>\n",
              "      <th>Unnamed: 0</th>\n",
              "      <th>NUM_BO</th>\n",
              "      <th>ANO_BO</th>\n",
              "      <th>NOME_DELEGACIA_CIRC</th>\n",
              "      <th>ANO</th>\n",
              "      <th>MES</th>\n",
              "      <th>DATA_OCORRENCIA_BO</th>\n",
              "      <th>HORA_OCORRENCIA_BO</th>\n",
              "      <th>RUBRICA</th>\n",
              "      <th>CONDUTA</th>\n",
              "      <th>LATITUDE</th>\n",
              "      <th>LONGITUDE</th>\n",
              "      <th>CIDADE</th>\n",
              "      <th>LOGRADOURO</th>\n",
              "      <th>DESCR_TIPO_PESSOA</th>\n",
              "      <th>CONT_PESSOA</th>\n",
              "      <th>SEXO_PESSOA</th>\n",
              "      <th>IDADE_PESSOA</th>\n",
              "      <th>COR</th>\n",
              "      <th>DESCR_PROFISSAO</th>\n",
              "      <th>DESCR_GRAU_INSTRUCAO</th>\n",
              "      <th>Drogas</th>\n",
              "      <th>Estupro</th>\n",
              "      <th>Estupro de vulneravel</th>\n",
              "      <th>Furto</th>\n",
              "      <th>Furto qualificado</th>\n",
              "      <th>Homicidio</th>\n",
              "      <th>Homicidio culposo</th>\n",
              "      <th>Homicidio culposo por veiculo</th>\n",
              "      <th>Homicidio qualificado</th>\n",
              "      <th>Lesao corporal</th>\n",
              "      <th>Lesao corporal de natureza GRAVE</th>\n",
              "      <th>Lesao corporal seguida de morte</th>\n",
              "      <th>Lesao culposa por veiculo</th>\n",
              "      <th>Roubo</th>\n",
              "      <th>ROUBO_FURTO</th>\n",
              "    </tr>\n",
              "  </thead>\n",
              "  <tbody>\n",
              "    <tr>\n",
              "      <th>0</th>\n",
              "      <td>243</td>\n",
              "      <td>2</td>\n",
              "      <td>2014</td>\n",
              "      <td>01 D.P. BARUERI</td>\n",
              "      <td>2014</td>\n",
              "      <td>2</td>\n",
              "      <td>26/02/2014</td>\n",
              "      <td>17:00</td>\n",
              "      <td>Drogas</td>\n",
              "      <td>VEICULO</td>\n",
              "      <td>-23.71286115</td>\n",
              "      <td>-46.78186771</td>\n",
              "      <td>BARUERI</td>\n",
              "      <td>R MARIA HELENA</td>\n",
              "      <td>Curador</td>\n",
              "      <td>7</td>\n",
              "      <td>F</td>\n",
              "      <td>51</td>\n",
              "      <td>Parda</td>\n",
              "      <td>AUXILIAR DE LIMPEZA</td>\n",
              "      <td>2 Grau completo</td>\n",
              "      <td>1</td>\n",
              "      <td>0</td>\n",
              "      <td>0</td>\n",
              "      <td>0</td>\n",
              "      <td>0</td>\n",
              "      <td>0</td>\n",
              "      <td>0</td>\n",
              "      <td>0</td>\n",
              "      <td>0</td>\n",
              "      <td>0</td>\n",
              "      <td>0</td>\n",
              "      <td>0</td>\n",
              "      <td>0</td>\n",
              "      <td>0</td>\n",
              "      <td>0</td>\n",
              "    </tr>\n",
              "    <tr>\n",
              "      <th>1</th>\n",
              "      <td>244</td>\n",
              "      <td>2</td>\n",
              "      <td>2014</td>\n",
              "      <td>01 D.P. BARUERI</td>\n",
              "      <td>2014</td>\n",
              "      <td>2</td>\n",
              "      <td>26/02/2014</td>\n",
              "      <td>17:00</td>\n",
              "      <td>Drogas</td>\n",
              "      <td>VEICULO</td>\n",
              "      <td>-23.71286115</td>\n",
              "      <td>-46.78186771</td>\n",
              "      <td>BARUERI</td>\n",
              "      <td>R MARIA HELENA</td>\n",
              "      <td>Indiciado</td>\n",
              "      <td>4</td>\n",
              "      <td>M</td>\n",
              "      <td>19</td>\n",
              "      <td>Parda</td>\n",
              "      <td>DESEMPREGADO</td>\n",
              "      <td>1 Grau completo</td>\n",
              "      <td>1</td>\n",
              "      <td>0</td>\n",
              "      <td>0</td>\n",
              "      <td>0</td>\n",
              "      <td>0</td>\n",
              "      <td>0</td>\n",
              "      <td>0</td>\n",
              "      <td>0</td>\n",
              "      <td>0</td>\n",
              "      <td>0</td>\n",
              "      <td>0</td>\n",
              "      <td>0</td>\n",
              "      <td>0</td>\n",
              "      <td>0</td>\n",
              "      <td>0</td>\n",
              "    </tr>\n",
              "  </tbody>\n",
              "</table>\n",
              "</div>"
            ],
            "text/plain": [
              "   Unnamed: 0  NUM_BO  ANO_BO  ... Lesao culposa por veiculo  Roubo  ROUBO_FURTO\n",
              "0         243       2    2014  ...                         0      0            0\n",
              "1         244       2    2014  ...                         0      0            0\n",
              "\n",
              "[2 rows x 36 columns]"
            ]
          },
          "metadata": {
            "tags": []
          },
          "execution_count": 1097
        }
      ]
    },
    {
      "cell_type": "code",
      "metadata": {
        "colab": {
          "base_uri": "https://localhost:8080/"
        },
        "id": "KDXQiQJGzBUP",
        "outputId": "039f68a4-ea5d-4e91-eac3-f0ee9add81ac"
      },
      "source": [
        "data.dtypes"
      ],
      "execution_count": 1098,
      "outputs": [
        {
          "output_type": "execute_result",
          "data": {
            "text/plain": [
              "Unnamed: 0                           int64\n",
              "NUM_BO                               int64\n",
              "ANO_BO                               int64\n",
              "NOME_DELEGACIA_CIRC                 object\n",
              "ANO                                  int64\n",
              "MES                                  int64\n",
              "DATA_OCORRENCIA_BO                  object\n",
              "HORA_OCORRENCIA_BO                  object\n",
              "RUBRICA                             object\n",
              "CONDUTA                             object\n",
              "LATITUDE                            object\n",
              "LONGITUDE                           object\n",
              "CIDADE                              object\n",
              "LOGRADOURO                          object\n",
              "DESCR_TIPO_PESSOA                   object\n",
              "CONT_PESSOA                          int64\n",
              "SEXO_PESSOA                         object\n",
              "IDADE_PESSOA                        object\n",
              "COR                                 object\n",
              "DESCR_PROFISSAO                     object\n",
              "DESCR_GRAU_INSTRUCAO                object\n",
              "Drogas                               uint8\n",
              "Estupro                              uint8\n",
              "Estupro de vulneravel                uint8\n",
              "Furto                                uint8\n",
              "Furto qualificado                    uint8\n",
              "Homicidio                            uint8\n",
              "Homicidio culposo                    uint8\n",
              "Homicidio culposo por veiculo        uint8\n",
              "Homicidio qualificado                uint8\n",
              "Lesao corporal                       uint8\n",
              "Lesao corporal de natureza GRAVE     uint8\n",
              "Lesao corporal seguida de morte      uint8\n",
              "Lesao culposa por veiculo            uint8\n",
              "Roubo                                uint8\n",
              "ROUBO_FURTO                          uint8\n",
              "dtype: object"
            ]
          },
          "metadata": {
            "tags": []
          },
          "execution_count": 1098
        }
      ]
    },
    {
      "cell_type": "code",
      "metadata": {
        "id": "WGMEIeJhl7a4"
      },
      "source": [
        "Conertendo a coluan 'idade' em inteiro:"
      ],
      "execution_count": null,
      "outputs": []
    },
    {
      "cell_type": "code",
      "metadata": {
        "colab": {
          "base_uri": "https://localhost:8080/"
        },
        "id": "2mFAkWsFQ3fj",
        "outputId": "0d2cd0e4-6a3f-4544-e5b0-148ea0a6636c"
      },
      "source": [
        "data.IDADE_PESSOA.astype('int64')"
      ],
      "execution_count": 1099,
      "outputs": [
        {
          "output_type": "execute_result",
          "data": {
            "text/plain": [
              "0       51\n",
              "1       19\n",
              "2       38\n",
              "3       23\n",
              "4       40\n",
              "        ..\n",
              "9995    35\n",
              "9996    29\n",
              "9997    41\n",
              "9998    46\n",
              "9999    26\n",
              "Name: IDADE_PESSOA, Length: 10000, dtype: int64"
            ]
          },
          "metadata": {
            "tags": []
          },
          "execution_count": 1099
        }
      ]
    },
    {
      "cell_type": "code",
      "metadata": {
        "colab": {
          "base_uri": "https://localhost:8080/"
        },
        "id": "E6JyF9FOQXc7",
        "outputId": "56fdc86d-003a-4039-ec58-21cdc9ae810f"
      },
      "source": [
        "data.groupby(by='SEXO_PESSOA').size()"
      ],
      "execution_count": 1100,
      "outputs": [
        {
          "output_type": "execute_result",
          "data": {
            "text/plain": [
              "SEXO_PESSOA\n",
              "F    2335\n",
              "I     166\n",
              "M    7499\n",
              "dtype: int64"
            ]
          },
          "metadata": {
            "tags": []
          },
          "execution_count": 1100
        }
      ]
    },
    {
      "cell_type": "code",
      "metadata": {
        "id": "H-ljpEi_l05x"
      },
      "source": [
        "Convertendo a coluna 'sexo' com valores numéricos:"
      ],
      "execution_count": null,
      "outputs": []
    },
    {
      "cell_type": "code",
      "metadata": {
        "colab": {
          "base_uri": "https://localhost:8080/"
        },
        "id": "OS06HG_dJZN3",
        "outputId": "5587033d-9bb1-4001-d0e2-06b83c1b7e5f"
      },
      "source": [
        "def codificando(coluna, codigo):\r\n",
        "  colCodificada = pd.Series(coluna, copy=True)\r\n",
        "  for key, value in codigo.items():\r\n",
        "    colCodificada.replace(key, value, inplace=True)\r\n",
        "  return colCodificada\r\n",
        "\r\n",
        "print('Antes: ') \r\n",
        "print(pd.value_counts(data[\"SEXO_PESSOA\"]))\r\n",
        "data[\"SEXO_PESSOA_CODED\"] = codificando(data[\"SEXO_PESSOA\"], {'M':0,'F':1,'I':0})\r\n",
        "print('Depois: ')\r\n",
        "print(pd.value_counts(data[\"SEXO_PESSOA_CODED\"]))"
      ],
      "execution_count": 1101,
      "outputs": [
        {
          "output_type": "stream",
          "text": [
            "Antes: \n",
            "M    7499\n",
            "F    2335\n",
            "I     166\n",
            "Name: SEXO_PESSOA, dtype: int64\n",
            "Depois: \n",
            "0    7665\n",
            "1    2335\n",
            "Name: SEXO_PESSOA_CODED, dtype: int64\n"
          ],
          "name": "stdout"
        }
      ]
    },
    {
      "cell_type": "code",
      "metadata": {
        "id": "g-ubGjcmwB4i"
      },
      "source": [
        "# data.HORA_OCORRENCIA_BO.astype('datetime')"
      ],
      "execution_count": 1102,
      "outputs": []
    },
    {
      "cell_type": "code",
      "metadata": {
        "id": "aLnUAN-tReDx"
      },
      "source": [
        "# data = datetime.strptime(data[\"HORA_OCORRENCIA_BO\"], \"%H:%M\")\r\n",
        "# data[\"hour\"] = data.strftime(\"%H:%M\")"
      ],
      "execution_count": 1103,
      "outputs": []
    },
    {
      "cell_type": "code",
      "metadata": {
        "id": "LEw2pT18OnLW"
      },
      "source": [
        "# def converteHora(coluna, codigo):\r\n",
        "#   colCodificada = pd.Series(coluna, copy=True)\r\n",
        "#   for key, value in codigo.items():\r\n",
        "#     datetime.strptime(times1,\"%H:%M:%S.%f\")\r\n",
        "#   return colCodificada\r\n",
        "\r\n",
        "# print('Antes: ') \r\n",
        "# print(pd.value_counts(data[\"HORA_OCORRENCIA_BO\"]))\r\n",
        "# data[\"HORA_OCORRENCIA_BO\"] = codificando(data[\"HORA_OCORRENCIA_BO\"], {'M':0,'F':1,'I':0})\r\n",
        "# print('Depois: ')\r\n",
        "# print(pd.value_counts(data[\"HORA_OCORRENCIA_BO\"]))"
      ],
      "execution_count": 1104,
      "outputs": []
    },
    {
      "cell_type": "markdown",
      "metadata": {
        "id": "MdabeWGW2cWG"
      },
      "source": [
        "#**2.3 SEPARAR A VARIÁVEL ALVO**"
      ]
    },
    {
      "cell_type": "code",
      "metadata": {
        "id": "i3l-SmCeZdr3"
      },
      "source": [
        "x = data[['HORA_OCORRENCIA_BO','IDADE_PESSOA']].copy()\r\n",
        "y = data[['ROUBO_FURTO']].copy()"
      ],
      "execution_count": 1105,
      "outputs": []
    },
    {
      "cell_type": "markdown",
      "metadata": {
        "id": "S8rZrWYt3NZl"
      },
      "source": [
        "#**3. DIVIDIR TESTE E TREINAMENTO**"
      ]
    },
    {
      "cell_type": "code",
      "metadata": {
        "id": "TVDG-ZQr1_ya"
      },
      "source": [
        "x_train, x_test, y_train, y_test = train_test_split(x, y, test_size=0.33, random_state=500)"
      ],
      "execution_count": 1106,
      "outputs": []
    },
    {
      "cell_type": "markdown",
      "metadata": {
        "id": "wVDYGO3j3Yus"
      },
      "source": [
        "#**4. CRIAR MODELO DE ML**"
      ]
    },
    {
      "cell_type": "code",
      "metadata": {
        "id": "zvHOjLQo2CSf",
        "colab": {
          "base_uri": "https://localhost:8080/",
          "height": 340
        },
        "outputId": "8d59a150-d8cf-4b81-b80b-5e6019ae05cf"
      },
      "source": [
        "tipos_crimes_classifier = DecisionTreeClassifier(max_leaf_nodes=100, random_state=1)\r\n",
        "tipos_crimes_classifier.fit(x_train, y_train)"
      ],
      "execution_count": 1107,
      "outputs": [
        {
          "output_type": "error",
          "ename": "ValueError",
          "evalue": "ignored",
          "traceback": [
            "\u001b[0;31m---------------------------------------------------------------------------\u001b[0m",
            "\u001b[0;31mValueError\u001b[0m                                Traceback (most recent call last)",
            "\u001b[0;32m<ipython-input-1107-ef6ebd21caad>\u001b[0m in \u001b[0;36m<module>\u001b[0;34m()\u001b[0m\n\u001b[1;32m      1\u001b[0m \u001b[0mtipos_crimes_classifier\u001b[0m \u001b[0;34m=\u001b[0m \u001b[0mDecisionTreeClassifier\u001b[0m\u001b[0;34m(\u001b[0m\u001b[0mmax_leaf_nodes\u001b[0m\u001b[0;34m=\u001b[0m\u001b[0;36m100\u001b[0m\u001b[0;34m,\u001b[0m \u001b[0mrandom_state\u001b[0m\u001b[0;34m=\u001b[0m\u001b[0;36m1\u001b[0m\u001b[0;34m)\u001b[0m\u001b[0;34m\u001b[0m\u001b[0;34m\u001b[0m\u001b[0m\n\u001b[0;32m----> 2\u001b[0;31m \u001b[0mtipos_crimes_classifier\u001b[0m\u001b[0;34m.\u001b[0m\u001b[0mfit\u001b[0m\u001b[0;34m(\u001b[0m\u001b[0mx_train\u001b[0m\u001b[0;34m,\u001b[0m \u001b[0my_train\u001b[0m\u001b[0;34m)\u001b[0m\u001b[0;34m\u001b[0m\u001b[0;34m\u001b[0m\u001b[0m\n\u001b[0m",
            "\u001b[0;32m/usr/local/lib/python3.6/dist-packages/sklearn/tree/_classes.py\u001b[0m in \u001b[0;36mfit\u001b[0;34m(self, X, y, sample_weight, check_input, X_idx_sorted)\u001b[0m\n\u001b[1;32m    875\u001b[0m             \u001b[0msample_weight\u001b[0m\u001b[0;34m=\u001b[0m\u001b[0msample_weight\u001b[0m\u001b[0;34m,\u001b[0m\u001b[0;34m\u001b[0m\u001b[0;34m\u001b[0m\u001b[0m\n\u001b[1;32m    876\u001b[0m             \u001b[0mcheck_input\u001b[0m\u001b[0;34m=\u001b[0m\u001b[0mcheck_input\u001b[0m\u001b[0;34m,\u001b[0m\u001b[0;34m\u001b[0m\u001b[0;34m\u001b[0m\u001b[0m\n\u001b[0;32m--> 877\u001b[0;31m             X_idx_sorted=X_idx_sorted)\n\u001b[0m\u001b[1;32m    878\u001b[0m         \u001b[0;32mreturn\u001b[0m \u001b[0mself\u001b[0m\u001b[0;34m\u001b[0m\u001b[0;34m\u001b[0m\u001b[0m\n\u001b[1;32m    879\u001b[0m \u001b[0;34m\u001b[0m\u001b[0m\n",
            "\u001b[0;32m/usr/local/lib/python3.6/dist-packages/sklearn/tree/_classes.py\u001b[0m in \u001b[0;36mfit\u001b[0;34m(self, X, y, sample_weight, check_input, X_idx_sorted)\u001b[0m\n\u001b[1;32m    147\u001b[0m \u001b[0;34m\u001b[0m\u001b[0m\n\u001b[1;32m    148\u001b[0m         \u001b[0;32mif\u001b[0m \u001b[0mcheck_input\u001b[0m\u001b[0;34m:\u001b[0m\u001b[0;34m\u001b[0m\u001b[0;34m\u001b[0m\u001b[0m\n\u001b[0;32m--> 149\u001b[0;31m             \u001b[0mX\u001b[0m \u001b[0;34m=\u001b[0m \u001b[0mcheck_array\u001b[0m\u001b[0;34m(\u001b[0m\u001b[0mX\u001b[0m\u001b[0;34m,\u001b[0m \u001b[0mdtype\u001b[0m\u001b[0;34m=\u001b[0m\u001b[0mDTYPE\u001b[0m\u001b[0;34m,\u001b[0m \u001b[0maccept_sparse\u001b[0m\u001b[0;34m=\u001b[0m\u001b[0;34m\"csc\"\u001b[0m\u001b[0;34m)\u001b[0m\u001b[0;34m\u001b[0m\u001b[0;34m\u001b[0m\u001b[0m\n\u001b[0m\u001b[1;32m    150\u001b[0m             \u001b[0my\u001b[0m \u001b[0;34m=\u001b[0m \u001b[0mcheck_array\u001b[0m\u001b[0;34m(\u001b[0m\u001b[0my\u001b[0m\u001b[0;34m,\u001b[0m \u001b[0mensure_2d\u001b[0m\u001b[0;34m=\u001b[0m\u001b[0;32mFalse\u001b[0m\u001b[0;34m,\u001b[0m \u001b[0mdtype\u001b[0m\u001b[0;34m=\u001b[0m\u001b[0;32mNone\u001b[0m\u001b[0;34m)\u001b[0m\u001b[0;34m\u001b[0m\u001b[0;34m\u001b[0m\u001b[0m\n\u001b[1;32m    151\u001b[0m             \u001b[0;32mif\u001b[0m \u001b[0missparse\u001b[0m\u001b[0;34m(\u001b[0m\u001b[0mX\u001b[0m\u001b[0;34m)\u001b[0m\u001b[0;34m:\u001b[0m\u001b[0;34m\u001b[0m\u001b[0;34m\u001b[0m\u001b[0m\n",
            "\u001b[0;32m/usr/local/lib/python3.6/dist-packages/sklearn/utils/validation.py\u001b[0m in \u001b[0;36mcheck_array\u001b[0;34m(array, accept_sparse, accept_large_sparse, dtype, order, copy, force_all_finite, ensure_2d, allow_nd, ensure_min_samples, ensure_min_features, warn_on_dtype, estimator)\u001b[0m\n\u001b[1;32m    529\u001b[0m                     \u001b[0marray\u001b[0m \u001b[0;34m=\u001b[0m \u001b[0marray\u001b[0m\u001b[0;34m.\u001b[0m\u001b[0mastype\u001b[0m\u001b[0;34m(\u001b[0m\u001b[0mdtype\u001b[0m\u001b[0;34m,\u001b[0m \u001b[0mcasting\u001b[0m\u001b[0;34m=\u001b[0m\u001b[0;34m\"unsafe\"\u001b[0m\u001b[0;34m,\u001b[0m \u001b[0mcopy\u001b[0m\u001b[0;34m=\u001b[0m\u001b[0;32mFalse\u001b[0m\u001b[0;34m)\u001b[0m\u001b[0;34m\u001b[0m\u001b[0;34m\u001b[0m\u001b[0m\n\u001b[1;32m    530\u001b[0m                 \u001b[0;32melse\u001b[0m\u001b[0;34m:\u001b[0m\u001b[0;34m\u001b[0m\u001b[0;34m\u001b[0m\u001b[0m\n\u001b[0;32m--> 531\u001b[0;31m                     \u001b[0marray\u001b[0m \u001b[0;34m=\u001b[0m \u001b[0mnp\u001b[0m\u001b[0;34m.\u001b[0m\u001b[0masarray\u001b[0m\u001b[0;34m(\u001b[0m\u001b[0marray\u001b[0m\u001b[0;34m,\u001b[0m \u001b[0morder\u001b[0m\u001b[0;34m=\u001b[0m\u001b[0morder\u001b[0m\u001b[0;34m,\u001b[0m \u001b[0mdtype\u001b[0m\u001b[0;34m=\u001b[0m\u001b[0mdtype\u001b[0m\u001b[0;34m)\u001b[0m\u001b[0;34m\u001b[0m\u001b[0;34m\u001b[0m\u001b[0m\n\u001b[0m\u001b[1;32m    532\u001b[0m             \u001b[0;32mexcept\u001b[0m \u001b[0mComplexWarning\u001b[0m\u001b[0;34m:\u001b[0m\u001b[0;34m\u001b[0m\u001b[0;34m\u001b[0m\u001b[0m\n\u001b[1;32m    533\u001b[0m                 raise ValueError(\"Complex data not supported\\n\"\n",
            "\u001b[0;32m/usr/local/lib/python3.6/dist-packages/numpy/core/_asarray.py\u001b[0m in \u001b[0;36masarray\u001b[0;34m(a, dtype, order)\u001b[0m\n\u001b[1;32m     83\u001b[0m \u001b[0;34m\u001b[0m\u001b[0m\n\u001b[1;32m     84\u001b[0m     \"\"\"\n\u001b[0;32m---> 85\u001b[0;31m     \u001b[0;32mreturn\u001b[0m \u001b[0marray\u001b[0m\u001b[0;34m(\u001b[0m\u001b[0ma\u001b[0m\u001b[0;34m,\u001b[0m \u001b[0mdtype\u001b[0m\u001b[0;34m,\u001b[0m \u001b[0mcopy\u001b[0m\u001b[0;34m=\u001b[0m\u001b[0;32mFalse\u001b[0m\u001b[0;34m,\u001b[0m \u001b[0morder\u001b[0m\u001b[0;34m=\u001b[0m\u001b[0morder\u001b[0m\u001b[0;34m)\u001b[0m\u001b[0;34m\u001b[0m\u001b[0;34m\u001b[0m\u001b[0m\n\u001b[0m\u001b[1;32m     86\u001b[0m \u001b[0;34m\u001b[0m\u001b[0m\n\u001b[1;32m     87\u001b[0m \u001b[0;34m\u001b[0m\u001b[0m\n",
            "\u001b[0;32m/usr/local/lib/python3.6/dist-packages/pandas/core/generic.py\u001b[0m in \u001b[0;36m__array__\u001b[0;34m(self, dtype)\u001b[0m\n\u001b[1;32m   1779\u001b[0m \u001b[0;34m\u001b[0m\u001b[0m\n\u001b[1;32m   1780\u001b[0m     \u001b[0;32mdef\u001b[0m \u001b[0m__array__\u001b[0m\u001b[0;34m(\u001b[0m\u001b[0mself\u001b[0m\u001b[0;34m,\u001b[0m \u001b[0mdtype\u001b[0m\u001b[0;34m=\u001b[0m\u001b[0;32mNone\u001b[0m\u001b[0;34m)\u001b[0m \u001b[0;34m->\u001b[0m \u001b[0mnp\u001b[0m\u001b[0;34m.\u001b[0m\u001b[0mndarray\u001b[0m\u001b[0;34m:\u001b[0m\u001b[0;34m\u001b[0m\u001b[0;34m\u001b[0m\u001b[0m\n\u001b[0;32m-> 1781\u001b[0;31m         \u001b[0;32mreturn\u001b[0m \u001b[0mnp\u001b[0m\u001b[0;34m.\u001b[0m\u001b[0masarray\u001b[0m\u001b[0;34m(\u001b[0m\u001b[0mself\u001b[0m\u001b[0;34m.\u001b[0m\u001b[0m_values\u001b[0m\u001b[0;34m,\u001b[0m \u001b[0mdtype\u001b[0m\u001b[0;34m=\u001b[0m\u001b[0mdtype\u001b[0m\u001b[0;34m)\u001b[0m\u001b[0;34m\u001b[0m\u001b[0;34m\u001b[0m\u001b[0m\n\u001b[0m\u001b[1;32m   1782\u001b[0m \u001b[0;34m\u001b[0m\u001b[0m\n\u001b[1;32m   1783\u001b[0m     \u001b[0;32mdef\u001b[0m \u001b[0m__array_wrap__\u001b[0m\u001b[0;34m(\u001b[0m\u001b[0mself\u001b[0m\u001b[0;34m,\u001b[0m \u001b[0mresult\u001b[0m\u001b[0;34m,\u001b[0m \u001b[0mcontext\u001b[0m\u001b[0;34m=\u001b[0m\u001b[0;32mNone\u001b[0m\u001b[0;34m)\u001b[0m\u001b[0;34m:\u001b[0m\u001b[0;34m\u001b[0m\u001b[0;34m\u001b[0m\u001b[0m\n",
            "\u001b[0;32m/usr/local/lib/python3.6/dist-packages/numpy/core/_asarray.py\u001b[0m in \u001b[0;36masarray\u001b[0;34m(a, dtype, order)\u001b[0m\n\u001b[1;32m     83\u001b[0m \u001b[0;34m\u001b[0m\u001b[0m\n\u001b[1;32m     84\u001b[0m     \"\"\"\n\u001b[0;32m---> 85\u001b[0;31m     \u001b[0;32mreturn\u001b[0m \u001b[0marray\u001b[0m\u001b[0;34m(\u001b[0m\u001b[0ma\u001b[0m\u001b[0;34m,\u001b[0m \u001b[0mdtype\u001b[0m\u001b[0;34m,\u001b[0m \u001b[0mcopy\u001b[0m\u001b[0;34m=\u001b[0m\u001b[0;32mFalse\u001b[0m\u001b[0;34m,\u001b[0m \u001b[0morder\u001b[0m\u001b[0;34m=\u001b[0m\u001b[0morder\u001b[0m\u001b[0;34m)\u001b[0m\u001b[0;34m\u001b[0m\u001b[0;34m\u001b[0m\u001b[0m\n\u001b[0m\u001b[1;32m     86\u001b[0m \u001b[0;34m\u001b[0m\u001b[0m\n\u001b[1;32m     87\u001b[0m \u001b[0;34m\u001b[0m\u001b[0m\n",
            "\u001b[0;31mValueError\u001b[0m: could not convert string to float: '03:00'"
          ]
        }
      ]
    },
    {
      "cell_type": "code",
      "metadata": {
        "id": "z6yTZkILjkry"
      },
      "source": [
        "print(tipos_crimes_classifier)"
      ],
      "execution_count": null,
      "outputs": []
    },
    {
      "cell_type": "markdown",
      "metadata": {
        "id": "yxelDTKk3fnO"
      },
      "source": [
        "#**5. FAZER PREDIÇÃO**"
      ]
    },
    {
      "cell_type": "code",
      "metadata": {
        "id": "sYhWxl1t2EWk"
      },
      "source": [
        "predictions = tipos_crimes_classifier.predict(x_test)"
      ],
      "execution_count": null,
      "outputs": []
    },
    {
      "cell_type": "markdown",
      "metadata": {
        "id": "u82xmTvq3v5Q"
      },
      "source": [
        "#**6. TESTAR ACURÁCIA**"
      ]
    },
    {
      "cell_type": "code",
      "metadata": {
        "id": "e5H_BaY92GQV"
      },
      "source": [
        "accuracy_score(y_true=y_test, y_pred=predictions)"
      ],
      "execution_count": null,
      "outputs": []
    }
  ]
}